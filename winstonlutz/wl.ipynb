{
  "nbformat": 4,
  "nbformat_minor": 0,
  "metadata": {
    "colab": {
      "provenance": [],
      "authorship_tag": "ABX9TyOpaCwAuBiujcSKZ27hHiP1",
      "include_colab_link": true
    },
    "kernelspec": {
      "name": "python3",
      "display_name": "Python 3"
    },
    "language_info": {
      "name": "python"
    }
  },
  "cells": [
    {
      "cell_type": "markdown",
      "metadata": {
        "id": "view-in-github",
        "colab_type": "text"
      },
      "source": [
        "<a href=\"https://colab.research.google.com/github/alexserante/pylinac/blob/main/winstonlutz/wl.ipynb\" target=\"_parent\"><img src=\"https://colab.research.google.com/assets/colab-badge.svg\" alt=\"Open In Colab\"/></a>"
      ]
    },
    {
      "cell_type": "code",
      "execution_count": null,
      "metadata": {
        "id": "vmDxdkW2UTm1"
      },
      "outputs": [],
      "source": [
        "from pylinac import WinstonLutz\n",
        "\n",
        "my_directory = 'L:/Radioterapia/Fisicos/Controle_Qualidade/WL/WL-AL06/IMAGENS/20221110'\n",
        "\n",
        "wl = WinstonLutz(my_directory, use_filenames=True)\n",
        "\n",
        "wl.analyze(bb_size_mm=8)\n",
        "\n",
        "\n",
        "pdf_name = my_directory[62:80]\n",
        "wl.publish_pdf(pdf_name + '.pdf')\n",
        "\n",
        "# plot all the images\n",
        "wl.plot_images()"
      ]
    }
  ]
}